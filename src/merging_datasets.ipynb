{
 "cells": [
  {
   "cell_type": "code",
   "execution_count": 3,
   "metadata": {},
   "outputs": [],
   "source": [
    "import pandas as pd"
   ]
  },
  {
   "cell_type": "code",
   "execution_count": 4,
   "metadata": {},
   "outputs": [],
   "source": [
    "labels = [\"TimeStamp\",\"WindVane\",\n",
    "\"WindSpeed\",\n",
    "\"RotorSpeed\", \n",
    "\"NacelleDirection\",\n",
    "\"ActivePower\",\n",
    "\"Spinner-Temperature\",\n",
    "\"Log-T-Raw-FrontBearingTemperature\",\n",
    "\"Log-T-Raw-RearBearingTemperature\", \n",
    "\"Log-T-Raw-BladeAPitchHeatSink\",\n",
    "\"Log-T-Raw-BladeBPitchHeatSink\",\n",
    "\"Log-T-Raw-BladeCPitchHeatSink\",\n",
    "\"Log-T-Raw-BladeAPitchControlBox\", \n",
    "\"Log-T-Raw-BladeBPitchControlBox\",\n",
    "\"Log-T-Raw-BladeCPitchControlBox\",\n",
    "\"Log-T-Raw-BladeATemperature\",\n",
    "\"Log-T-Raw-BladeBTemperature\",\n",
    "\"Log-T-Raw-BladeCTemperature\",\n",
    "\"Log-T-Raw-Rotor1Temperature\",\n",
    "\"Log-T-Raw-Rotor2Temperature\",\n",
    "\"Log-T-Raw-Stator2Temperature\", \n",
    "\"Log-T-Raw-Stator1Temperature\",\n",
    "\"Log-T-Raw-NacelleAmbientTemperature\",\n",
    "\"Nacelle-Temperature\",\n",
    "\"Log-T-Raw-NacelleControlCabinetTemperature\",\n",
    "\"Log-T-Raw-Rectifier1HeatSink\",\n",
    "\"Log-T-Raw-Rectifier2HeatSink\",\n",
    "\"Log-T-Raw-RectifierCabinetTemperature\",\n",
    "\"Log-T-Raw-ExcitationHeatSink\",\n",
    "\"Ambient-Temperature\",\n",
    "\"Log-T-Raw-TowerTemperature\",\n",
    "\"Log-T-Raw-ControlCabinetTemperature\",\n",
    "\"Log-T-Raw-TransformerTemperature\",\n",
    "\"Average blade angle across A B C\",\n",
    "\"WindDirection\",\"Status\"]\n",
    "\n",
    "merged_dataset = pd.DataFrame(columns = labels)\n",
    "\n",
    "merged_dataset.to_csv(\"all_data_filled.csv\", encoding='utf-8', index=False)\n",
    "\n"
   ]
  },
  {
   "cell_type": "code",
   "execution_count": 7,
   "metadata": {},
   "outputs": [
    {
     "name": "stdout",
     "output_type": "stream",
     "text": [
      "0\n",
      "1\n",
      "2\n",
      "3\n",
      "4\n",
      "5\n",
      "6\n",
      "7\n",
      "8\n",
      "9\n",
      "10\n",
      "11\n",
      "12\n",
      "13\n",
      "14\n",
      "15\n",
      "16\n",
      "17\n",
      "18\n",
      "19\n",
      "20\n",
      "21\n",
      "22\n",
      "23\n",
      "24\n"
     ]
    }
   ],
   "source": [
    "# Make sure all filled dataframes (all 25) are in the same folder as this notebook\n",
    "for i in range(25):\n",
    "    print(i)\n",
    "    wt = \"BESS:{}.csv\".format(i)\n",
    "    df = pd.read_csv(wt)\n",
    "    with open(\"all_data_filled.csv\", 'a') as f:\n",
    "        df.to_csv(f, header=False)"
   ]
  }
 ],
 "metadata": {
  "kernelspec": {
   "display_name": "Python 3",
   "language": "python",
   "name": "python3"
  },
  "language_info": {
   "codemirror_mode": {
    "name": "ipython",
    "version": 3
   },
   "file_extension": ".py",
   "mimetype": "text/x-python",
   "name": "python",
   "nbconvert_exporter": "python",
   "pygments_lexer": "ipython3",
   "version": "3.7.1"
  }
 },
 "nbformat": 4,
 "nbformat_minor": 2
}
