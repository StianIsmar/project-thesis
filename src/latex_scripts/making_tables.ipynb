{
 "cells": [
  {
   "cell_type": "code",
   "execution_count": 55,
   "metadata": {},
   "outputs": [
    {
     "name": "stdout",
     "output_type": "stream",
     "text": [
      "['WindVane', 'WindSpeed', 'RotorSpeed', 'NacelleDirection', 'ActivePower', 'Spinner-Temperature', 'Log-T-Raw-FrontBearingTemperature', 'Log-T-Raw-RearBearingTemperature', 'Log-T-Raw-BladeAPitchHeatSink', 'Log-T-Raw-BladeBPitchHeatSink', 'Log-T-Raw-BladeCPitchHeatSink', 'Log-T-Raw-BladeAPitchControlBox', 'Log-T-Raw-BladeBPitchControlBox', 'Log-T-Raw-BladeCPitchControlBox', 'Log-T-Raw-BladeATemperature', 'Log-T-Raw-BladeBTemperature', 'Log-T-Raw-BladeCTemperature', 'Log-T-Raw-Rotor1Temperature', 'Log-T-Raw-Rotor2Temperature', 'Log-T-Raw-Stator2Temperature', 'Log-T-Raw-Stator1Temperature', 'Log-T-Raw-NacelleAmbientTemperature', 'Nacelle-Temperature', 'Log-T-Raw-NacelleControlCabinetTemperature', 'Log-T-Raw-Rectifier1HeatSink', 'Log-T-Raw-Rectifier2HeatSink', 'Log-T-Raw-RectifierCabinetTemperature', 'Log-T-Raw-ExcitationHeatSink', 'Ambient-Temperature', 'Log-T-Raw-TowerTemperature', 'Log-T-Raw-ControlCabinetTemperature', 'Log-T-Raw-TransformerTemperature', 'Average blade angle across A B C', 'WindDirection']\n",
      "['WindVane', 'WindSpeed', 'RotorSpeed', 'NacelleDirection', 'ActivePower', 'Spinner-Temperature', 'Log-T-Raw-FrontBearingTemperature', 'Log-T-Raw-RearBearingTemperature', 'Log-T-Raw-BladeAPitchHeatSink', 'Log-T-Raw-BladeBPitchHeatSink', 'Log-T-Raw-BladeCPitchHeatSink', 'Log-T-Raw-BladeAPitchControlBox', 'Log-T-Raw-BladeBPitchControlBox', 'Log-T-Raw-BladeCPitchControlBox', 'Log-T-Raw-BladeATemperature', 'Log-T-Raw-BladeBTemperature', 'Log-T-Raw-BladeCTemperature', 'Log-T-Raw-Rotor1Temperature', 'Log-T-Raw-Rotor2Temperature', 'Log-T-Raw-Stator2Temperature', 'Log-T-Raw-Stator1Temperature', 'Log-T-Raw-NacelleAmbientTemperature', 'Nacelle-Temperature', 'Log-T-Raw-NacelleControlCabinetTemperature', 'Log-T-Raw-Rectifier1HeatSink', 'Log-T-Raw-Rectifier2HeatSink', 'Log-T-Raw-RectifierCabinetTemperature', 'Log-T-Raw-ExcitationHeatSink', 'Ambient-Temperature', 'Log-T-Raw-TowerTemperature', 'Log-T-Raw-ControlCabinetTemperature', 'Log-T-Raw-TransformerTemperature', 'Average blade angle across A B C', 'WindDirection']\n"
     ]
    }
   ],
   "source": [
    "labels = [\"WindVane\",\n",
    "\"WindSpeed\",\n",
    "\"RotorSpeed\", \n",
    "\"NacelleDirection\",\n",
    "\"ActivePower\",\n",
    "\"Spinner-Temperature\",\n",
    "\"Log-T-Raw-FrontBearingTemperature\",\n",
    "\"Log-T-Raw-RearBearingTemperature\", \n",
    "\"Log-T-Raw-BladeAPitchHeatSink\",\n",
    "\"Log-T-Raw-BladeBPitchHeatSink\",\n",
    "\"Log-T-Raw-BladeCPitchHeatSink\",\n",
    "\"Log-T-Raw-BladeAPitchControlBox\", \n",
    "\"Log-T-Raw-BladeBPitchControlBox\",\n",
    "\"Log-T-Raw-BladeCPitchControlBox\",\n",
    "\"Log-T-Raw-BladeATemperature\",\n",
    "\"Log-T-Raw-BladeBTemperature\",\n",
    "\"Log-T-Raw-BladeCTemperature\",\n",
    "\"Log-T-Raw-Rotor1Temperature\",\n",
    "\"Log-T-Raw-Rotor2Temperature\",\n",
    "\"Log-T-Raw-Stator2Temperature\", \n",
    "\"Log-T-Raw-Stator1Temperature\",\n",
    "\"Log-T-Raw-NacelleAmbientTemperature\",\n",
    "\"Nacelle-Temperature\",\n",
    "\"Log-T-Raw-NacelleControlCabinetTemperature\",\n",
    "\"Log-T-Raw-Rectifier1HeatSink\",\n",
    "\"Log-T-Raw-Rectifier2HeatSink\",\n",
    "\"Log-T-Raw-RectifierCabinetTemperature\",\n",
    "\"Log-T-Raw-ExcitationHeatSink\",\n",
    "\"Ambient-Temperature\",\n",
    "\"Log-T-Raw-TowerTemperature\",\n",
    "\"Log-T-Raw-ControlCabinetTemperature\",\n",
    "\"Log-T-Raw-TransformerTemperature\",\n",
    "\"Average blade angle across A B C\",\n",
    "\"WindDirection\"]\n",
    "\n",
    "for i in range(len(labels)):\n",
    "    if (labels[i].find(\"Log-T-Raw-\") == 1):\n",
    "        print(\"FIND\",labels[i].find(\"Log-T-Raw-\"))\n",
    "        labels[i] = labels[i].split(\"Log-T-Raw-\")\n",
    "        \n",
    "print(labels)\n",
    "    \n",
    "def print_tabular(list_):\n",
    "    print(\"\\begin{tabular}{lll}\")\n",
    "    length_list = len(list_)\n",
    "    \n",
    "    for i in range(length_list - 1):\n",
    "        print(list_[i] + \" & \" + list_[i+1])\n",
    "        \n",
    "    print(\"\\end{tabular}\")\n",
    "\n",
    "print(labels_filtered)"
   ]
  },
  {
   "cell_type": "code",
   "execution_count": 44,
   "metadata": {},
   "outputs": [
    {
     "name": "stdout",
     "output_type": "stream",
     "text": [
      "\begin{tabular}{lll}\n",
      "ActivePower & Ambient-Temperature\n",
      "Ambient-Temperature & Average blade angle across A B C\n",
      "Average blade angle across A B C & Log-T-Raw-BladeAPitchControlBox\n",
      "Log-T-Raw-BladeAPitchControlBox & Log-T-Raw-BladeAPitchHeatSink\n",
      "Log-T-Raw-BladeAPitchHeatSink & Log-T-Raw-BladeATemperature\n",
      "Log-T-Raw-BladeATemperature & Log-T-Raw-BladeBPitchControlBox\n",
      "Log-T-Raw-BladeBPitchControlBox & Log-T-Raw-BladeBPitchHeatSink\n",
      "Log-T-Raw-BladeBPitchHeatSink & Log-T-Raw-BladeBTemperature\n",
      "Log-T-Raw-BladeBTemperature & Log-T-Raw-BladeCPitchControlBox\n",
      "Log-T-Raw-BladeCPitchControlBox & Log-T-Raw-BladeCPitchHeatSink\n",
      "Log-T-Raw-BladeCPitchHeatSink & Log-T-Raw-BladeCTemperature\n",
      "Log-T-Raw-BladeCTemperature & Log-T-Raw-ControlCabinetTemperature\n",
      "Log-T-Raw-ControlCabinetTemperature & Log-T-Raw-ExcitationHeatSink\n",
      "Log-T-Raw-ExcitationHeatSink & Log-T-Raw-FrontBearingTemperature\n",
      "Log-T-Raw-FrontBearingTemperature & Log-T-Raw-NacelleAmbientTemperature\n",
      "Log-T-Raw-NacelleAmbientTemperature & Log-T-Raw-NacelleControlCabinetTemperature\n",
      "Log-T-Raw-NacelleControlCabinetTemperature & Log-T-Raw-RearBearingTemperature\n",
      "Log-T-Raw-RearBearingTemperature & Log-T-Raw-Rectifier1HeatSink\n",
      "Log-T-Raw-Rectifier1HeatSink & Log-T-Raw-Rectifier2HeatSink\n",
      "Log-T-Raw-Rectifier2HeatSink & Log-T-Raw-RectifierCabinetTemperature\n",
      "Log-T-Raw-RectifierCabinetTemperature & Log-T-Raw-Rotor1Temperature\n",
      "Log-T-Raw-Rotor1Temperature & Log-T-Raw-Rotor2Temperature\n",
      "Log-T-Raw-Rotor2Temperature & Log-T-Raw-Stator1Temperature\n",
      "Log-T-Raw-Stator1Temperature & Log-T-Raw-Stator2Temperature\n",
      "Log-T-Raw-Stator2Temperature & Log-T-Raw-TowerTemperature\n",
      "Log-T-Raw-TowerTemperature & Log-T-Raw-TransformerTemperature\n",
      "Log-T-Raw-TransformerTemperature & Nacelle-Temperature\n",
      "Nacelle-Temperature & NacelleDirection\n",
      "NacelleDirection & RotorSpeed\n",
      "RotorSpeed & Spinner-Temperature\n",
      "Spinner-Temperature & WindDirection\n",
      "WindDirection & WindSpeed\n",
      "WindSpeed & WindVane\n",
      "\\end{tabular}\n"
     ]
    }
   ],
   "source": [
    "print_tabular(labels)"
   ]
  },
  {
   "cell_type": "code",
   "execution_count": null,
   "metadata": {},
   "outputs": [],
   "source": []
  }
 ],
 "metadata": {
  "kernelspec": {
   "display_name": "Python 3",
   "language": "python",
   "name": "python3"
  },
  "language_info": {
   "codemirror_mode": {
    "name": "ipython",
    "version": 3
   },
   "file_extension": ".py",
   "mimetype": "text/x-python",
   "name": "python",
   "nbconvert_exporter": "python",
   "pygments_lexer": "ipython3",
   "version": "3.7.2"
  }
 },
 "nbformat": 4,
 "nbformat_minor": 2
}
