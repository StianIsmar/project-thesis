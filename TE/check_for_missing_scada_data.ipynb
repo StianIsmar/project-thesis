{
 "cells": [
  {
   "cell_type": "code",
   "execution_count": 76,
   "metadata": {},
   "outputs": [],
   "source": [
    "import pandas as pd\n",
    "import pickle"
   ]
  },
  {
   "cell_type": "code",
   "execution_count": 79,
   "metadata": {},
   "outputs": [],
   "source": [
    "import os\n",
    "scada_dfs = []\n",
    "directory = \"./scada_data\"\n",
    "for filename in os.listdir(directory):\n",
    "    if filename.endswith(\".csv\"):\n",
    "        full_path = os.path.join(directory, filename)\n",
    "        df = pd.read_csv(os.path.join(directory, filename))\n",
    "        scada_dfs.append(df)\n",
    "        print(len(scada_dfs))\n",
    "        # os.remove(full_path)\n",
    "        # print(\"File Removed!\")\n",
    "        continue\n",
    "    else: \n",
    "        continue"
   ]
  },
  {
   "cell_type": "code",
   "execution_count": 82,
   "metadata": {},
   "outputs": [
    {
     "data": {
      "text/plain": [
       "[]"
      ]
     },
     "execution_count": 82,
     "metadata": {},
     "output_type": "execute_result"
    }
   ],
   "source": [
    "scada_dfs"
   ]
  },
  {
   "cell_type": "code",
   "execution_count": 80,
   "metadata": {},
   "outputs": [],
   "source": [
    "my_list = []\n",
    "old_name = \"\"\n",
    "for dataframe in scada_dfs:\n",
    "    \n",
    "    new_name = (dataframe.columns.to_series().index[0][10:20])\n",
    "    print(new_name)\n",
    "    if (new_name == old_name):\n",
    "        # Do nothing\n",
    "        print(\"The same\")\n",
    "    else:\n",
    "        dataframe.to_csv('./scada_data/produced/' + new_name+\".csv\")\n",
    "        print(\" \")\n",
    "    old_name = new_name\n",
    "\n",
    "# Missing 01, 13, 19 -> \n"
   ]
  },
  {
   "cell_type": "code",
   "execution_count": null,
   "metadata": {},
   "outputs": [],
   "source": []
  }
 ],
 "metadata": {
  "kernelspec": {
   "display_name": "Python 3",
   "language": "python",
   "name": "python3"
  },
  "language_info": {
   "codemirror_mode": {
    "name": "ipython",
    "version": 3
   },
   "file_extension": ".py",
   "mimetype": "text/x-python",
   "name": "python",
   "nbconvert_exporter": "python",
   "pygments_lexer": "ipython3",
   "version": "3.7.2"
  }
 },
 "nbformat": 4,
 "nbformat_minor": 2
}
