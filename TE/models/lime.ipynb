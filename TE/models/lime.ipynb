{
 "cells": [
  {
   "cell_type": "code",
   "execution_count": 1,
   "metadata": {},
   "outputs": [],
   "source": [
    "import lime\n",
    "import lime.lime_tabular\n",
    "import numpy as np\n",
    "import pandas as pd"
   ]
  },
  {
   "cell_type": "code",
   "execution_count": null,
   "metadata": {},
   "outputs": [],
   "source": [
    "# Using Linear Regression\n",
    "reg = LinearRegression().fit(X, Y)\n",
    "acc_train_reg = reg.score(X, Y)\n",
    "acc_test_reg = reg.score(X_test, Y_test)\n",
    "print('=================================\\n       - LINEAR REGRESSION -')\n",
    "\n",
    "print('\\nLinear Regression Accuracy:\\nTraining set:\\t' + str(acc_train_reg))\n",
    "print('Test set:\\t{0:f}'.format(acc_test_reg))\n",
    "print('=================================')"
   ]
  }
 ],
 "metadata": {
  "kernelspec": {
   "display_name": "Python 3",
   "language": "python",
   "name": "python3"
  },
  "language_info": {
   "codemirror_mode": {
    "name": "ipython",
    "version": 3
   },
   "file_extension": ".py",
   "mimetype": "text/x-python",
   "name": "python",
   "nbconvert_exporter": "python",
   "pygments_lexer": "ipython3",
   "version": "3.7.1"
  }
 },
 "nbformat": 4,
 "nbformat_minor": 2
}
