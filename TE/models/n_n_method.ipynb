{
 "cells": [
  {
   "cell_type": "markdown",
   "metadata": {},
   "source": [
    "## This is not in use"
   ]
  },
  {
   "cell_type": "code",
   "execution_count": 1,
   "metadata": {},
   "outputs": [
    {
     "name": "stderr",
     "output_type": "stream",
     "text": [
      "/Users/mortenolsenosvik/anaconda3/lib/python3.7/site-packages/tensorflow/python/framework/dtypes.py:526: FutureWarning: Passing (type, 1) or '1type' as a synonym of type is deprecated; in a future version of numpy, it will be understood as (type, (1,)) / '(1,)type'.\n",
      "  _np_qint8 = np.dtype([(\"qint8\", np.int8, 1)])\n",
      "/Users/mortenolsenosvik/anaconda3/lib/python3.7/site-packages/tensorflow/python/framework/dtypes.py:527: FutureWarning: Passing (type, 1) or '1type' as a synonym of type is deprecated; in a future version of numpy, it will be understood as (type, (1,)) / '(1,)type'.\n",
      "  _np_quint8 = np.dtype([(\"quint8\", np.uint8, 1)])\n",
      "/Users/mortenolsenosvik/anaconda3/lib/python3.7/site-packages/tensorflow/python/framework/dtypes.py:528: FutureWarning: Passing (type, 1) or '1type' as a synonym of type is deprecated; in a future version of numpy, it will be understood as (type, (1,)) / '(1,)type'.\n",
      "  _np_qint16 = np.dtype([(\"qint16\", np.int16, 1)])\n",
      "/Users/mortenolsenosvik/anaconda3/lib/python3.7/site-packages/tensorflow/python/framework/dtypes.py:529: FutureWarning: Passing (type, 1) or '1type' as a synonym of type is deprecated; in a future version of numpy, it will be understood as (type, (1,)) / '(1,)type'.\n",
      "  _np_quint16 = np.dtype([(\"quint16\", np.uint16, 1)])\n",
      "/Users/mortenolsenosvik/anaconda3/lib/python3.7/site-packages/tensorflow/python/framework/dtypes.py:530: FutureWarning: Passing (type, 1) or '1type' as a synonym of type is deprecated; in a future version of numpy, it will be understood as (type, (1,)) / '(1,)type'.\n",
      "  _np_qint32 = np.dtype([(\"qint32\", np.int32, 1)])\n",
      "/Users/mortenolsenosvik/anaconda3/lib/python3.7/site-packages/tensorflow/python/framework/dtypes.py:535: FutureWarning: Passing (type, 1) or '1type' as a synonym of type is deprecated; in a future version of numpy, it will be understood as (type, (1,)) / '(1,)type'.\n",
      "  np_resource = np.dtype([(\"resource\", np.ubyte, 1)])\n"
     ]
    }
   ],
   "source": [
    "import numpy as np\n",
    "import pandas as pd\n",
    "\n",
    "import tensorflow as tf\n",
    "import gzip\n",
    "import pickle"
   ]
  },
  {
   "cell_type": "code",
   "execution_count": 2,
   "metadata": {},
   "outputs": [],
   "source": [
    "def DNN(train_X,train_Y,test_X,test_y, ep, nodes):\n",
    "    # Scale data (normalization), easier for network to learn:\n",
    "    # plt.imshow(train_X[0])\n",
    "    # plt.show\n",
    "    train_X = tf.keras.utils.normalize(train_X,axis=1)\n",
    "    test_X = tf.keras.utils.normalize(test_X,axis=1)\n",
    "\n",
    "    model = tf.keras.models.Sequential()\n",
    "    model.add(tf.keras.layers.Flatten())\n",
    "    model.add(tf.keras.layers.Dense(nodes, activation = tf.nn.relu )) \n",
    "    model.add(tf.keras.layers.Dense(nodes, activation = tf.nn.relu )) \n",
    "    model.add(tf.keras.layers.Dense(26, activation = tf.nn.softmax ))\n",
    "\n",
    "    model.compile(optimizer ='adam',\n",
    "                 loss='sparse_categorical_crossentropy',metrics=['accuracy'])\n",
    "\n",
    "    # train:\n",
    "    model.fit(train_X, train_Y, epochs = ep)\n",
    "    loss, accuracy = model.evaluate(test_X, test_y)\n",
    "    return loss, accuracy, model"
   ]
  },
  {
   "cell_type": "markdown",
   "metadata": {},
   "source": [
    "### Transforms to list instead of dataframe (not sure if needed)\n"
   ]
  },
  {
   "cell_type": "code",
   "execution_count": 4,
   "metadata": {},
   "outputs": [],
   "source": [
    "# train and test are dataframes (with the labels in the last column for both)\n",
    "def transform_data_for_tensorflow_and_run(train,test, ep, nodes):\n",
    "    trainx = (train.drop(labels='Letter', axis = 1)).values\n",
    "    trainy = np.array(train['Letter'].tolist())\n",
    "    \n",
    "    testx = (test.drop(labels='Letter', axis = 1)).values\n",
    "    testy = np.array(test['Letter'].tolist())\n",
    "    loss, accuracy, model_tensor = DNN(trainx,trainy,testx,testy, ep, nodes)\n",
    "    \n",
    "    return loss, accuracy, model_tensor"
   ]
  },
  {
   "cell_type": "code",
   "execution_count": null,
   "metadata": {},
   "outputs": [],
   "source": [
    "def runDNN(dataset, name, ep, nodes):\n",
    "    train, test = get_train_test_set(dataset)\n",
    "    loss, acc, model_tensor = transform_data_for_tensorflow_and_run(train,test, ep, nodes)\n",
    "    \n",
    "    #Print Accuracy\n",
    "    print(\"\\nDNN Accuracy Score on {0} with {1} Epochs and {2} Nodes:\".format(name, ep, nodes))\n",
    "    print(\"Loss:\\t\\t{0}\".format(loss))\n",
    "    # Test:\n",
    "    print(\"Accuracy:\\t{0}\\n\".format(acc))\n",
    "    return model_tensor"
   ]
  }
 ],
 "metadata": {
  "kernelspec": {
   "display_name": "Python 3",
   "language": "python",
   "name": "python3"
  },
  "language_info": {
   "codemirror_mode": {
    "name": "ipython",
    "version": 3
   },
   "file_extension": ".py",
   "mimetype": "text/x-python",
   "name": "python",
   "nbconvert_exporter": "python",
   "pygments_lexer": "ipython3",
   "version": "3.7.1"
  }
 },
 "nbformat": 4,
 "nbformat_minor": 2
}
