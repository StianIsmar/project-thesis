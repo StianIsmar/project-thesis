{
 "cells": [
  {
   "cell_type": "markdown",
   "metadata": {},
   "source": [
    "# Plotting the comparison between performance metrics"
   ]
  },
  {
   "cell_type": "code",
   "execution_count": null,
   "metadata": {},
   "outputs": [],
   "source": [
    "import matplotlib as mpl\n",
    "import matplotlib\n",
    "\n",
    "\n",
    "colorname=[]\n",
    "colorid=[]\n",
    "for name, hex in matplotlib.colors.cnames.items():\n",
    "    colorname.append(name)\n",
    "    colorid.append(hex)\n",
    "\n",
    "# performances_all = [dt_performance,rf_performance,svm_smote_performance]\n",
    "\n",
    "# Must be a list of 3 models, for the 4 faults\n",
    "def plot_all_performances(list_of_performance_scores):\n",
    "    fig, (ax1, ax2, ax3, ax4) = plt.subplots(4, 1,figsize=(8,18))\n",
    "\n",
    "    # plt.subplots_adjust(top = 0.9)\n",
    "    d={1:ax1,2:ax2,3:ax3,4:ax4}\n",
    "\n",
    "    # fig.suptitle('Sharing x per column, y per row')\n",
    "\n",
    "    for column in range(1,5):\n",
    "        index = 0\n",
    "        plot_df = pd.DataFrame(np.zeros((3, 3)), columns = [\"Precision\",\"Recall\",\"F1-score\"])\n",
    "\n",
    "        # print(\"column\", column)\n",
    "\n",
    "        for p in performances_all:\n",
    "            for i in range(0,3):\n",
    "                s = p.iloc[i,column]\n",
    "                plot_df.iat[index,i] = s\n",
    "            index += 1\n",
    "\n",
    "        # print(plot_df)     \n",
    "        plot_df = plot_df.set_index([pd.Index(['Decision Tree','Random Forest','SVM with SMOTE'])])\n",
    "\n",
    "\n",
    "        errors = ['Feeding fault - (Diff. P-set/P-actual)','Feeding fault - (Feeding safety circuit faulty)','Generator heating - (Manual)\t','Other']\n",
    "        # Plotting\n",
    "        ax = d.get(column)\n",
    "        # fig, ax = plt.subplots(1, 1, figsize=(8,4))\n",
    "\n",
    "        ax.set_ylabel(\"Score\",fontsize=16)\n",
    "        ax.set_title(errors[column-1],fontsize=18)\n",
    "\n",
    "\n",
    "        sns.set_style(\"whitegrid\")\n",
    "        labels = ['Decision Tree','Random Forest','SVM with SMOTE']\n",
    "\n",
    "        # Color\n",
    "        cmap = mpl.cm.GnBu(np.linspace(0,1,20))\n",
    "        cmap = mpl.colors.ListedColormap(cmap[10:,:-1])\n",
    "        print(cmap)\n",
    "\n",
    "        chart = plot_df.plot.bar(ax=ax,width=0.5,stacked = False,fontsize = 11,cmap=cmap)\n",
    "        chart.set_xticklabels(chart.get_xticklabels(), rotation=30, horizontalalignment='right',fontsize = 14)\n",
    "        fig.tight_layout()\n",
    "\n",
    "        # handles, labels = ax.get_legend_handles_labels()\n",
    "        # fig.legend(handles, labels, loc='upper right',fontsize = 18)\n",
    "        # 'seagreen','darkturquoise', 'steelblue'))\n",
    "\n"
   ]
  }
 ],
 "metadata": {
  "kernelspec": {
   "display_name": "Python 3",
   "language": "python",
   "name": "python3"
  },
  "language_info": {
   "codemirror_mode": {
    "name": "ipython",
    "version": 3
   },
   "file_extension": ".py",
   "mimetype": "text/x-python",
   "name": "python",
   "nbconvert_exporter": "python",
   "pygments_lexer": "ipython3",
   "version": "3.7.1"
  }
 },
 "nbformat": 4,
 "nbformat_minor": 2
}
