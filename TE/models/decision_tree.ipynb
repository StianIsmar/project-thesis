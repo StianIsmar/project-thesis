{
 "cells": [
  {
   "cell_type": "code",
   "execution_count": 6,
   "metadata": {},
   "outputs": [
    {
     "name": "stdout",
     "output_type": "stream",
     "text": [
      "Importing Jupyter notebook from data_sampling.ipynb\n",
      "Importing Jupyter notebook from random_forest_method.ipynb\n",
      "Importing Jupyter notebook from performance_measure.ipynb\n",
      "Importing Jupyter notebook from svm_method.ipynb\n"
     ]
    }
   ],
   "source": [
    "# Needed for importing\n",
    "import nbimporter\n",
    "import performance_measure"
   ]
  },
  {
   "cell_type": "code",
   "execution_count": 9,
   "metadata": {},
   "outputs": [],
   "source": [
    "from sklearn.tree import DecisionTreeClassifier\n",
    "import performance_measure\n",
    "\n",
    "def train_decision_tree(X_train,y_train,X_test):\n",
    "    clf = DecisionTreeClassifier(criterion = \"entropy\", random_state=12)\n",
    "    \n",
    "    # Fitting DT\n",
    "    clf.fit(X_train, y_train)\n",
    "    \n",
    "    # Predicting training samples\n",
    "    y_train_pred = clf.predict(X_train)\n",
    "    \n",
    "    # Predicting testing samples\n",
    "    y_test_pred = clf.predict(X_test)\n",
    "    \n",
    "    return clf, y_train_pred, y_test_pred\n",
    "\n",
    "def get_decision_tree_model(X_train, X_test, y_train, y_test):\n",
    "    print('Loading DT..')\n",
    "    print('Training DT...')\n",
    "    dt, y_train_pred, y_test_pred = train_decision_tree(X_train,y_train, X_test)\n",
    "    print('Training Complete')\n",
    "    \n",
    "    print('Plotting Confusion Matrix...')\n",
    "    performance_measure.plot_confusion_matrix(y_test,y_test_pred, normalize=True)\n",
    "    \n",
    "    print('Plotting Performance Measure...')\n",
    "    performance_measure.get_performance_measures(y_test,y_test_pred)\n",
    "    return dt    "
   ]
  },
  {
   "cell_type": "code",
   "execution_count": 10,
   "metadata": {},
   "outputs": [
    {
     "name": "stdout",
     "output_type": "stream",
     "text": [
      "Loading DT..\n",
      "Training DT...\n",
      "Training Complete\n",
      "Plotting Confusion Matrix...\n",
      "Normalized confusion matrix\n",
      "[[0.88888889 0.11111111 0.        ]\n",
      " [0.03846154 0.96153846 0.        ]\n",
      " [0.         0.13333333 0.86666667]]\n"
     ]
    },
    {
     "data": {
      "image/png": "[encoded data removed]",
      "text/plain": [
       "<Figure size 432x288 with 2 Axes>"
      ]
     },
     "metadata": {
      "needs_background": "light"
     },
     "output_type": "display_data"
    },
    {
     "name": "stdout",
     "output_type": "stream",
     "text": [
      "Plotting Performance Measure...\n",
      "Total Accuracy \t\t0.915\n",
      "\n",
      "Status \t\t\t\t Precision \t Recall \t F1\n",
      "----------------------------------------------------------------------\n",
      "0                         \t 0.941 \t\t 0.889 \t\t 0.914\n",
      "1                         \t 0.862 \t\t 0.962 \t\t 0.909\n",
      "2                         \t 1.000 \t\t 0.867 \t\t 0.929\n"
     ]
    }
   ],
   "source": [
    "# Testing:\n",
    "from sklearn.model_selection import train_test_split\n",
    "import pandas as pd\n",
    "import numpy as np\n",
    "from sklearn.datasets import load_wine\n",
    "data = load_wine()\n",
    "\n",
    "\n",
    "X = pd.DataFrame(data.data, columns = data.feature_names)\n",
    "y = pd.DataFrame(data.target)\n",
    "y = np.array(y)\n",
    "y = np.ravel(y)\n",
    "\n",
    "X_train, X_test, y_train, y_test = train_test_split(X, y, test_size=0.33)\n",
    "\n",
    "dt = get_decision_tree_model(X_train, X_test, y_train, y_test)"
   ]
  },
  {
   "cell_type": "code",
   "execution_count": null,
   "metadata": {},
   "outputs": [],
   "source": []
  }
 ],
 "metadata": {
  "kernelspec": {
   "display_name": "Python 3",
   "language": "python",
   "name": "python3"
  },
  "language_info": {
   "codemirror_mode": {
    "name": "ipython",
    "version": 3
   },
   "file_extension": ".py",
   "mimetype": "text/x-python",
   "name": "python",
   "nbconvert_exporter": "python",
   "pygments_lexer": "ipython3",
   "version": "3.7.2"
  }
 },
 "nbformat": 4,
 "nbformat_minor": 2
}
