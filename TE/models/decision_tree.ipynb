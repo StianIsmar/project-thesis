{
 "cells": [
  {
   "cell_type": "code",
   "execution_count": null,
   "metadata": {},
   "outputs": [
    {
     "name": "stdout",
     "output_type": "stream",
     "text": [
      "Importing Jupyter notebook from performance_measure.ipynb\n"
     ]
    }
   ],
   "source": [
    "# Needed for importing\n",
    "import nbimporter\n",
    "import performance_measure"
   ]
  },
  {
   "cell_type": "code",
   "execution_count": null,
   "metadata": {},
   "outputs": [],
   "source": [
    "from sklearn.tree import DecisionTreeClassifier\n",
    "import performance_measure\n",
    "\n",
    "def train_decision_tree(X_train,y_train,X_test,depth):\n",
    "    clf = DecisionTreeClassifier(criterion = \"entropy\", random_state=12,max_depth = depth)\n",
    "    \n",
    "    # Fitting DT\n",
    "    clf.fit(X_train, y_train)\n",
    "    \n",
    "    # Predicting training samples\n",
    "    y_train_pred = clf.predict(X_train)\n",
    "    \n",
    "    # Predicting testing samples\n",
    "    y_test_pred = clf.predict(X_test)\n",
    "    \n",
    "    return clf, y_train_pred, y_test_pred\n",
    "\n",
    "def get_decision_tree_model(X_train, X_test, y_train, y_test,depth):\n",
    "    print('Loading DT..')\n",
    "    print('Training DT...')\n",
    "    dt, y_train_pred, y_test_pred = train_decision_tree(X_train,y_train, X_test,depth)\n",
    "    print('Training Complete')\n",
    "    \n",
    "    print('Plotting Confusion Matrix...')\n",
    "    performance_measure.plot_confusion_matrix(y_test,y_test_pred, normalize=True)\n",
    "    \n",
    "    print('Plotting Performance Measure...')\n",
    "    performance_measure.get_performance_measures(y_test,y_test_pred)\n",
    "    return dt    "
   ]
  },
  {
   "cell_type": "code",
   "execution_count": null,
   "metadata": {},
   "outputs": [],
   "source": [
    "# Testing:\n",
    "from sklearn.model_selection import train_test_split\n",
    "import pandas as pd\n",
    "import numpy as np\n",
    "from sklearn.datasets import load_wine\n",
    "data = load_wine()\n",
    "\n",
    "\n",
    "X = pd.DataFrame(data.data, columns = data.feature_names)\n",
    "y = pd.DataFrame(data.target)\n",
    "y = np.array(y)\n",
    "y = np.ravel(y)\n",
    "\n",
    "X_train, X_test, y_train, y_test = train_test_split(X, y, test_size=0.33)\n",
    "\n",
    "dt = get_decision_tree_model(X_train, X_test, y_train, y_test,10)"
   ]
  },
  {
   "cell_type": "code",
   "execution_count": null,
   "metadata": {},
   "outputs": [],
   "source": []
  },
  {
   "cell_type": "code",
   "execution_count": null,
   "metadata": {},
   "outputs": [],
   "source": []
  },
  {
   "cell_type": "code",
   "execution_count": null,
   "metadata": {},
   "outputs": [],
   "source": []
  },
  {
   "cell_type": "code",
   "execution_count": null,
   "metadata": {},
   "outputs": [],
   "source": []
  }
 ],
 "metadata": {
  "kernelspec": {
   "display_name": "Python 3",
   "language": "python",
   "name": "python3"
  },
  "language_info": {
   "codemirror_mode": {
    "name": "ipython",
    "version": 3
   },
   "file_extension": ".py",
   "mimetype": "text/x-python",
   "name": "python",
   "nbconvert_exporter": "python",
   "pygments_lexer": "ipython3",
   "version": "3.7.1"
  }
 },
 "nbformat": 4,
 "nbformat_minor": 2
}
