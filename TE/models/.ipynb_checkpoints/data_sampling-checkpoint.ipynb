{
 "cells": [
  {
   "cell_type": "code",
   "execution_count": 1,
   "metadata": {},
   "outputs": [
    {
     "name": "stderr",
     "output_type": "stream",
     "text": [
      "/Users/mortenolsenosvik/anaconda3/lib/python3.7/site-packages/tensorflow/python/framework/dtypes.py:526: FutureWarning: Passing (type, 1) or '1type' as a synonym of type is deprecated; in a future version of numpy, it will be understood as (type, (1,)) / '(1,)type'.\n",
      "  _np_qint8 = np.dtype([(\"qint8\", np.int8, 1)])\n",
      "/Users/mortenolsenosvik/anaconda3/lib/python3.7/site-packages/tensorflow/python/framework/dtypes.py:527: FutureWarning: Passing (type, 1) or '1type' as a synonym of type is deprecated; in a future version of numpy, it will be understood as (type, (1,)) / '(1,)type'.\n",
      "  _np_quint8 = np.dtype([(\"quint8\", np.uint8, 1)])\n",
      "/Users/mortenolsenosvik/anaconda3/lib/python3.7/site-packages/tensorflow/python/framework/dtypes.py:528: FutureWarning: Passing (type, 1) or '1type' as a synonym of type is deprecated; in a future version of numpy, it will be understood as (type, (1,)) / '(1,)type'.\n",
      "  _np_qint16 = np.dtype([(\"qint16\", np.int16, 1)])\n",
      "/Users/mortenolsenosvik/anaconda3/lib/python3.7/site-packages/tensorflow/python/framework/dtypes.py:529: FutureWarning: Passing (type, 1) or '1type' as a synonym of type is deprecated; in a future version of numpy, it will be understood as (type, (1,)) / '(1,)type'.\n",
      "  _np_quint16 = np.dtype([(\"quint16\", np.uint16, 1)])\n",
      "/Users/mortenolsenosvik/anaconda3/lib/python3.7/site-packages/tensorflow/python/framework/dtypes.py:530: FutureWarning: Passing (type, 1) or '1type' as a synonym of type is deprecated; in a future version of numpy, it will be understood as (type, (1,)) / '(1,)type'.\n",
      "  _np_qint32 = np.dtype([(\"qint32\", np.int32, 1)])\n",
      "/Users/mortenolsenosvik/anaconda3/lib/python3.7/site-packages/tensorflow/python/framework/dtypes.py:535: FutureWarning: Passing (type, 1) or '1type' as a synonym of type is deprecated; in a future version of numpy, it will be understood as (type, (1,)) / '(1,)type'.\n",
      "  np_resource = np.dtype([(\"resource\", np.ubyte, 1)])\n"
     ]
    },
    {
     "name": "stdout",
     "output_type": "stream",
     "text": [
      "Importing Jupyter notebook from random_forest_method.ipynb\n",
      "Importing Jupyter notebook from performance_measure.ipynb\n",
      "Importing Jupyter notebook from svm_method.ipynb\n"
     ]
    }
   ],
   "source": [
    "import pandas as pd\n",
    "import matplotlib.pyplot as plt\n",
    "from sklearn.utils import shuffle\n",
    "from imblearn.over_sampling import SMOTE\n",
    "import nbimporter\n",
    "import random_forest_method\n",
    "import performance_measure\n",
    "import svm_method"
   ]
  },
  {
   "cell_type": "markdown",
   "metadata": {},
   "source": [
    "### Technique of loading data and training model simultaniously (NOT IN USE)"
   ]
  },
  {
   "cell_type": "code",
   "execution_count": 2,
   "metadata": {},
   "outputs": [],
   "source": [
    "#counter = 0\n",
    "#for chunk in pd.read_csv(path, chunksize=1000000): #, compression='zip'):\n",
    "#    counter +=1\n",
    "    # Do model training here:\n",
    "#    print('Reading batch {} / 52'.format(counter), end='\\r')\n",
    "#print('\\nReading Complete!')"
   ]
  },
  {
   "cell_type": "markdown",
   "metadata": {},
   "source": [
    "### Map status code to status description"
   ]
  },
  {
   "cell_type": "code",
   "execution_count": 3,
   "metadata": {},
   "outputs": [],
   "source": [
    "fault_dict = {}\n",
    "fault_dict['Other'] = 'Other'\n",
    "fault_dict['Status_9_Substatus_8'] = 'Generator heating - (Manual)'\n",
    "fault_dict['Status_62_Substatus_7'] = 'Feeding fault - (Diff. P-set/P-actual)'\n",
    "fault_dict['Status_62_Substatus_30'] = 'Feeding fault - (Feeding safety circuit faulty)'\n",
    "def get_description_from_status(status):\n",
    "    return fault_dict[status]\n",
    "    "
   ]
  },
  {
   "cell_type": "markdown",
   "metadata": {},
   "source": [
    "### Method to print amount and percentage of statuses in datset"
   ]
  },
  {
   "cell_type": "code",
   "execution_count": 4,
   "metadata": {},
   "outputs": [],
   "source": [
    "def get_statues_percentage(dataframe, description):\n",
    "    status_count = dataframe.Status.value_counts()\n",
    "    total_status_count = dataframe.shape[0]\n",
    "    print('Proportion of failures in {}'.format(description))\n",
    "    print('Status\\t\\t\\t Percentage\\t Amount')\n",
    "    print('Other:\\t\\t\\t {0:.3f}%\\t {1}'.format(100*status_count[0]/(total_status_count), status_count[0]))\n",
    "    print('Status_9_Substatus_8: \\t {0:.3f} %\\t {1}'.format(100*status_count[1]/(total_status_count), status_count[1]))\n",
    "    print('Status_62_Substatus_7:\\t {0:.3f}%\\t\\t {1}'.format(100*status_count[2]/(total_status_count), status_count[2]))\n",
    "    print('Status_62_Substatus_30:\\t {0:.3f}%\\t\\t {1}'.format(100*status_count[3]/(total_status_count), status_count[3]))\n",
    "    print('')"
   ]
  },
  {
   "cell_type": "markdown",
   "metadata": {},
   "source": [
    "### Create bar plot of amount of statuses"
   ]
  },
  {
   "cell_type": "code",
   "execution_count": 5,
   "metadata": {},
   "outputs": [],
   "source": [
    "def plot_balance(dataframe, column):\n",
    "    s = dataframe[column].value_counts()\n",
    "    fig, ax = plt.subplots()\n",
    "\n",
    "    # Remove the plot frame lines. They are unnecessary chartjunk.  \n",
    "    ax = plt.subplot(111)  \n",
    "    ax.spines[\"top\"].set_visible(False)  \n",
    "    ax.spines[\"right\"].set_visible(False)  \n",
    "\n",
    "    ax.get_xaxis().tick_bottom()  \n",
    "    ax.get_yaxis().tick_left()  \n",
    "\n",
    "    # Make sure your axis ticks are large enough to be easily read.  \n",
    "    # You don't want your viewers squinting to read your plot.  \n",
    "    plt.xticks(fontsize=14)  \n",
    "    plt.yticks(fontsize=14)  \n",
    "\n",
    "    plt.ylabel(\"Frequency of fault\", fontsize=14)  \n",
    "    plt.xlabel(\"Fault type\", fontsize=14)  \n",
    "    \n",
    "    \n",
    "    dataframe[column].value_counts().plot(ax=ax, kind='bar')\n",
    "    plt.figure(figsize=(20, 16))\n",
    "\n",
    "    #Save file\n",
    "    plt.savefig('../Data_Plots/data_balance')\n",
    "    "
   ]
  },
  {
   "cell_type": "markdown",
   "metadata": {},
   "source": [
    "### Loading dataset without missing values"
   ]
  },
  {
   "cell_type": "code",
   "execution_count": 6,
   "metadata": {},
   "outputs": [],
   "source": [
    "path = \"../../../../../../XAI_Datasets/Data/all_data_filled.csv\"\n",
    "#'/Users⁩/mortenolsenosvik⁩/⁨XAI_Datasets⁩/Data/'\n",
    "data = pd.read_csv(path, nrows=500000)"
   ]
  },
  {
   "cell_type": "markdown",
   "metadata": {},
   "source": [
    "### Undersampling the dataset "
   ]
  },
  {
   "cell_type": "code",
   "execution_count": 7,
   "metadata": {
    "scrolled": true
   },
   "outputs": [],
   "source": [
    "def undersample_dataset(dataset, sample_amount):\n",
    "    # Extract each status\n",
    "    others = dataset.loc[dataset['Status'] == 'Other']\n",
    "    status_9_Substatus_8   = dataset.loc[dataset['Status'] == 'Status_9_Substatus_8']\n",
    "    status_62_Substatus_7  = dataset.loc[dataset['Status'] == 'Status_62_Substatus_7']\n",
    "    status_62_Substatus_30 = dataset.loc[dataset['Status'] == 'Status_62_Substatus_30']\n",
    "\n",
    "    # undersampe the majority class ('Other')\n",
    "    sampled_others = others.sample(sample_amount, random_state = 12)\n",
    "    undersampled_data = pd.concat([sampled_others, status_9_Substatus_8, \n",
    "                                   status_62_Substatus_7, status_62_Substatus_30], ignore_index=True)\n",
    "    undersampled_data = shuffle(undersampled_data)\n",
    "    undersampled_data.reset_index(inplace=True, drop=True)\n",
    "\n",
    "    # Save dataframe to csv\n",
    "    undersampled_data.to_csv('../../../../../../XAI_Datasets/Data/undersampled_data.csv', \n",
    "                             encoding='utf-8', index=False)\n",
    "    \n",
    "    return(undersampled_data)\n"
   ]
  },
  {
   "cell_type": "code",
   "execution_count": 8,
   "metadata": {
    "scrolled": true
   },
   "outputs": [],
   "source": [
    "undersampled_data = undersample_dataset(data, 300000)\n",
    "#get_statues_percentage(data, 'the unprocessed dataset')\n",
    "#get_statues_percentage(undersampled_data, 'the undersampled dataset')\n"
   ]
  },
  {
   "cell_type": "code",
   "execution_count": 9,
   "metadata": {
    "scrolled": true
   },
   "outputs": [
    {
     "data": {
      "image/png": "[encoded data removed]",
      "text/plain": [
       "<Figure size 432x288 with 1 Axes>"
      ]
     },
     "metadata": {
      "needs_background": "light"
     },
     "output_type": "display_data"
    },
    {
     "data": {
      "text/plain": [
       "<Figure size 1440x1152 with 0 Axes>"
      ]
     },
     "metadata": {},
     "output_type": "display_data"
    }
   ],
   "source": [
    "plot_balance(undersampled_data, 'Status')"
   ]
  },
  {
   "cell_type": "code",
   "execution_count": 10,
   "metadata": {},
   "outputs": [],
   "source": [
    "X = undersampled_data.drop(columns = ['Status', 'TimeStamp'])\n",
    "y = undersampled_data.Status"
   ]
  },
  {
   "cell_type": "code",
   "execution_count": 11,
   "metadata": {},
   "outputs": [
    {
     "data": {
      "text/plain": [
       "Other                     300000\n",
       "Status_9_Substatus_8        2638\n",
       "Status_62_Substatus_30        11\n",
       "Name: Status, dtype: int64"
      ]
     },
     "execution_count": 11,
     "metadata": {},
     "output_type": "execute_result"
    }
   ],
   "source": [
    "y.value_counts()"
   ]
  },
  {
   "cell_type": "code",
   "execution_count": 12,
   "metadata": {},
   "outputs": [
    {
     "name": "stdout",
     "output_type": "stream",
     "text": [
      "Normalized confusion matrix\n",
      "[[9.99969697e-01 2.02018161e-05 1.01009081e-05]\n",
      " [0.00000000e+00 1.00000000e+00 0.00000000e+00]\n",
      " [6.89655172e-03 0.00000000e+00 9.93103448e-01]]\n"
     ]
    },
    {
     "data": {
      "image/png": "[encoded data removed]",
      "text/plain": [
       "<Figure size 432x288 with 2 Axes>"
      ]
     },
     "metadata": {
      "needs_background": "light"
     },
     "output_type": "display_data"
    },
    {
     "name": "stdout",
     "output_type": "stream",
     "text": [
      "Total Accuracy \t\t1.000\n",
      "\n",
      "Status \t\t\t\t Precision \t Recall \t F1\n",
      "----------------------------------------------------------------------\n",
      "Other                     \t 1.000 \t\t 1.000 \t\t 1.000\n",
      "Status_62_Substatus_30    \t 0.667 \t\t 1.000 \t\t 0.800\n",
      "Status_9_Substatus_8      \t 0.999 \t\t 0.993 \t\t 0.996\n"
     ]
    }
   ],
   "source": [
    "fet = random_forest_method.get_model(X, y)"
   ]
  },
  {
   "cell_type": "code",
   "execution_count": 13,
   "metadata": {
    "scrolled": true
   },
   "outputs": [
    {
     "data": {
      "text/html": [
       "<div>\n",
       "<style scoped>\n",
       "    .dataframe tbody tr th:only-of-type {\n",
       "        vertical-align: middle;\n",
       "    }\n",
       "\n",
       "    .dataframe tbody tr th {\n",
       "        vertical-align: top;\n",
       "    }\n",
       "\n",
       "    .dataframe thead th {\n",
       "        text-align: right;\n",
       "    }\n",
       "</style>\n",
       "<table border=\"1\" class=\"dataframe\">\n",
       "  <thead>\n",
       "    <tr style=\"text-align: right;\">\n",
       "      <th></th>\n",
       "      <th>importance</th>\n",
       "    </tr>\n",
       "  </thead>\n",
       "  <tbody>\n",
       "    <tr>\n",
       "      <th>Log-T-Raw-Rectifier1HeatSink</th>\n",
       "      <td>0.137633</td>\n",
       "    </tr>\n",
       "    <tr>\n",
       "      <th>Log-T-Raw-TransformerTemperature</th>\n",
       "      <td>0.081155</td>\n",
       "    </tr>\n",
       "    <tr>\n",
       "      <th>NacelleDirection</th>\n",
       "      <td>0.074958</td>\n",
       "    </tr>\n",
       "    <tr>\n",
       "      <th>Log-T-Raw-FrontBearingTemperature</th>\n",
       "      <td>0.051542</td>\n",
       "    </tr>\n",
       "    <tr>\n",
       "      <th>Log-T-Raw-ControlCabinetTemperature</th>\n",
       "      <td>0.051089</td>\n",
       "    </tr>\n",
       "    <tr>\n",
       "      <th>Log-T-Raw-TowerTemperature</th>\n",
       "      <td>0.049066</td>\n",
       "    </tr>\n",
       "    <tr>\n",
       "      <th>Log-T-Raw-RearBearingTemperature</th>\n",
       "      <td>0.040326</td>\n",
       "    </tr>\n",
       "    <tr>\n",
       "      <th>Log-T-Raw-BladeBPitchHeatSink</th>\n",
       "      <td>0.032814</td>\n",
       "    </tr>\n",
       "    <tr>\n",
       "      <th>Log-T-Raw-Rectifier2HeatSink</th>\n",
       "      <td>0.029445</td>\n",
       "    </tr>\n",
       "    <tr>\n",
       "      <th>Log-T-Raw-NacelleAmbientTemperature</th>\n",
       "      <td>0.028386</td>\n",
       "    </tr>\n",
       "    <tr>\n",
       "      <th>Log-T-Raw-Stator2Temperature</th>\n",
       "      <td>0.027643</td>\n",
       "    </tr>\n",
       "    <tr>\n",
       "      <th>Ambient-Temperature</th>\n",
       "      <td>0.027634</td>\n",
       "    </tr>\n",
       "    <tr>\n",
       "      <th>WindDirection</th>\n",
       "      <td>0.026202</td>\n",
       "    </tr>\n",
       "    <tr>\n",
       "      <th>Log-T-Raw-RectifierCabinetTemperature</th>\n",
       "      <td>0.025680</td>\n",
       "    </tr>\n",
       "    <tr>\n",
       "      <th>Log-T-Raw-Stator1Temperature</th>\n",
       "      <td>0.025584</td>\n",
       "    </tr>\n",
       "    <tr>\n",
       "      <th>Log-T-Raw-ExcitationHeatSink</th>\n",
       "      <td>0.023769</td>\n",
       "    </tr>\n",
       "    <tr>\n",
       "      <th>Log-T-Raw-BladeAPitchHeatSink</th>\n",
       "      <td>0.022820</td>\n",
       "    </tr>\n",
       "    <tr>\n",
       "      <th>Spinner-Temperature</th>\n",
       "      <td>0.020922</td>\n",
       "    </tr>\n",
       "    <tr>\n",
       "      <th>Log-T-Raw-Rotor1Temperature</th>\n",
       "      <td>0.020680</td>\n",
       "    </tr>\n",
       "    <tr>\n",
       "      <th>Log-T-Raw-BladeAPitchControlBox</th>\n",
       "      <td>0.019174</td>\n",
       "    </tr>\n",
       "    <tr>\n",
       "      <th>Log-T-Raw-BladeCPitchControlBox</th>\n",
       "      <td>0.019039</td>\n",
       "    </tr>\n",
       "    <tr>\n",
       "      <th>Average blade angle across A B C</th>\n",
       "      <td>0.018758</td>\n",
       "    </tr>\n",
       "    <tr>\n",
       "      <th>Nacelle-Temperature</th>\n",
       "      <td>0.018604</td>\n",
       "    </tr>\n",
       "    <tr>\n",
       "      <th>WindVane</th>\n",
       "      <td>0.018155</td>\n",
       "    </tr>\n",
       "    <tr>\n",
       "      <th>Log-T-Raw-BladeBTemperature</th>\n",
       "      <td>0.014716</td>\n",
       "    </tr>\n",
       "    <tr>\n",
       "      <th>Log-T-Raw-NacelleControlCabinetTemperature</th>\n",
       "      <td>0.014301</td>\n",
       "    </tr>\n",
       "    <tr>\n",
       "      <th>Log-T-Raw-BladeCPitchHeatSink</th>\n",
       "      <td>0.013577</td>\n",
       "    </tr>\n",
       "    <tr>\n",
       "      <th>Log-T-Raw-BladeBPitchControlBox</th>\n",
       "      <td>0.012932</td>\n",
       "    </tr>\n",
       "    <tr>\n",
       "      <th>Log-T-Raw-BladeATemperature</th>\n",
       "      <td>0.011193</td>\n",
       "    </tr>\n",
       "    <tr>\n",
       "      <th>Log-T-Raw-Rotor2Temperature</th>\n",
       "      <td>0.011030</td>\n",
       "    </tr>\n",
       "    <tr>\n",
       "      <th>WindSpeed</th>\n",
       "      <td>0.010636</td>\n",
       "    </tr>\n",
       "    <tr>\n",
       "      <th>ActivePower</th>\n",
       "      <td>0.010530</td>\n",
       "    </tr>\n",
       "    <tr>\n",
       "      <th>RotorSpeed</th>\n",
       "      <td>0.008884</td>\n",
       "    </tr>\n",
       "    <tr>\n",
       "      <th>Log-T-Raw-BladeCTemperature</th>\n",
       "      <td>0.001122</td>\n",
       "    </tr>\n",
       "  </tbody>\n",
       "</table>\n",
       "</div>"
      ],
      "text/plain": [
       "                                            importance\n",
       "Log-T-Raw-Rectifier1HeatSink                  0.137633\n",
       "Log-T-Raw-TransformerTemperature              0.081155\n",
       "NacelleDirection                              0.074958\n",
       "Log-T-Raw-FrontBearingTemperature             0.051542\n",
       "Log-T-Raw-ControlCabinetTemperature           0.051089\n",
       "Log-T-Raw-TowerTemperature                    0.049066\n",
       "Log-T-Raw-RearBearingTemperature              0.040326\n",
       "Log-T-Raw-BladeBPitchHeatSink                 0.032814\n",
       "Log-T-Raw-Rectifier2HeatSink                  0.029445\n",
       "Log-T-Raw-NacelleAmbientTemperature           0.028386\n",
       "Log-T-Raw-Stator2Temperature                  0.027643\n",
       "Ambient-Temperature                           0.027634\n",
       "WindDirection                                 0.026202\n",
       "Log-T-Raw-RectifierCabinetTemperature         0.025680\n",
       "Log-T-Raw-Stator1Temperature                  0.025584\n",
       "Log-T-Raw-ExcitationHeatSink                  0.023769\n",
       "Log-T-Raw-BladeAPitchHeatSink                 0.022820\n",
       "Spinner-Temperature                           0.020922\n",
       "Log-T-Raw-Rotor1Temperature                   0.020680\n",
       "Log-T-Raw-BladeAPitchControlBox               0.019174\n",
       "Log-T-Raw-BladeCPitchControlBox               0.019039\n",
       "Average blade angle across A B C              0.018758\n",
       "Nacelle-Temperature                           0.018604\n",
       "WindVane                                      0.018155\n",
       "Log-T-Raw-BladeBTemperature                   0.014716\n",
       "Log-T-Raw-NacelleControlCabinetTemperature    0.014301\n",
       "Log-T-Raw-BladeCPitchHeatSink                 0.013577\n",
       "Log-T-Raw-BladeBPitchControlBox               0.012932\n",
       "Log-T-Raw-BladeATemperature                   0.011193\n",
       "Log-T-Raw-Rotor2Temperature                   0.011030\n",
       "WindSpeed                                     0.010636\n",
       "ActivePower                                   0.010530\n",
       "RotorSpeed                                    0.008884\n",
       "Log-T-Raw-BladeCTemperature                   0.001122"
      ]
     },
     "execution_count": 13,
     "metadata": {},
     "output_type": "execute_result"
    }
   ],
   "source": [
    "fet"
   ]
  },
  {
   "cell_type": "markdown",
   "metadata": {},
   "source": [
    "### SVM method"
   ]
  },
  {
   "cell_type": "code",
   "execution_count": null,
   "metadata": {},
   "outputs": [
    {
     "name": "stdout",
     "output_type": "stream",
     "text": [
      "Loading...\n",
      "Training...\n"
     ]
    }
   ],
   "source": [
    "svm_method.get_model(X, y)"
   ]
  },
  {
   "cell_type": "markdown",
   "metadata": {},
   "source": [
    "### SMOTE (Synthetic Minority Oversampling Technique):"
   ]
  },
  {
   "cell_type": "code",
   "execution_count": null,
   "metadata": {},
   "outputs": [],
   "source": [
    "sm = SMOTE(random_state=12)\n",
    "X_"
   ]
  }
 ],
 "metadata": {
  "kernelspec": {
   "display_name": "Python 3",
   "language": "python",
   "name": "python3"
  },
  "language_info": {
   "codemirror_mode": {
    "name": "ipython",
    "version": 3
   },
   "file_extension": ".py",
   "mimetype": "text/x-python",
   "name": "python",
   "nbconvert_exporter": "python",
   "pygments_lexer": "ipython3",
   "version": "3.7.1"
  }
 },
 "nbformat": 4,
 "nbformat_minor": 2
}
