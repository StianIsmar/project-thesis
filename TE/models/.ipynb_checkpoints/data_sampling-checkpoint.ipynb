{
 "cells": [
  {
   "cell_type": "code",
   "execution_count": 1,
   "metadata": {},
   "outputs": [],
   "source": [
    "import pandas as pd\n",
    "import matplotlib.pyplot as plt\n",
    "from sklearn.utils import shuffle\n",
    "from imblearn.over_sampling import SMOTE"
   ]
  },
  {
   "cell_type": "markdown",
   "metadata": {},
   "source": [
    "### Technique of loading data and training model simultaniously (NOT IN USE)"
   ]
  },
  {
   "cell_type": "code",
   "execution_count": 2,
   "metadata": {},
   "outputs": [],
   "source": [
    "#counter = 0\n",
    "#for chunk in pd.read_csv(path, chunksize=1000000): #, compression='zip'):\n",
    "#    counter +=1\n",
    "    # Do model training here:\n",
    "#    print('Reading batch {} / 52'.format(counter), end='\\r')\n",
    "#print('\\nReading Complete!')"
   ]
  },
  {
   "cell_type": "markdown",
   "metadata": {},
   "source": [
    "### Map status code to status description"
   ]
  },
  {
   "cell_type": "code",
   "execution_count": 3,
   "metadata": {},
   "outputs": [],
   "source": [
    "fault_dict = {}\n",
    "fault_dict['Other'] = 'Other'\n",
    "fault_dict['Status_9_Substatus_8'] = 'Generator heating - (Manual)'\n",
    "fault_dict['Status_62_Substatus_7'] = 'Feeding fault - (Diff. P-set/P-actual)'\n",
    "fault_dict['Status_62_Substatus_30'] = 'Feeding fault - (Feeding safety circuit faulty)'\n",
    "def get_description_from_status(status):\n",
    "    return fault_dict[status]\n",
    "    "
   ]
  },
  {
   "cell_type": "markdown",
   "metadata": {},
   "source": [
    "### Method to print amount and percentage of statuses in datset"
   ]
  },
  {
   "cell_type": "code",
   "execution_count": 4,
   "metadata": {},
   "outputs": [],
   "source": [
    "def get_statues_percentage(dataframe, description):\n",
    "    status_count = dataframe.Status.value_counts()\n",
    "    total_status_count = dataframe.shape[0]\n",
    "    print('Proportion of failures in {}'.format(description))\n",
    "    print('Status\\t\\t\\t Percentage\\t Amount')\n",
    "    print('Other:\\t\\t\\t {0:.3f}%\\t {1}'.format(100*status_count[0]/(total_status_count), status_count[0]))\n",
    "    print('Status_9_Substatus_8: \\t {0:.3f} %\\t {1}'.format(100*status_count[1]/(total_status_count), status_count[1]))\n",
    "    print('Status_62_Substatus_7:\\t {0:.3f}%\\t\\t {1}'.format(100*status_count[2]/(total_status_count), status_count[2]))\n",
    "    print('Status_62_Substatus_30:\\t {0:.3f}%\\t\\t {1}'.format(100*status_count[3]/(total_status_count), status_count[3]))\n",
    "    print('')"
   ]
  },
  {
   "cell_type": "markdown",
   "metadata": {},
   "source": [
    "### Create bar plot of amount of statuses"
   ]
  },
  {
   "cell_type": "code",
   "execution_count": 5,
   "metadata": {},
   "outputs": [],
   "source": [
    "def plot_balance(dataframe, column):\n",
    "    s = dataframe[column].value_counts()\n",
    "    fig, ax = plt.subplots()\n",
    "\n",
    "    # Remove the plot frame lines. They are unnecessary chartjunk.  \n",
    "    ax = plt.subplot(111)  \n",
    "    ax.spines[\"top\"].set_visible(False)  \n",
    "    ax.spines[\"right\"].set_visible(False)  \n",
    "\n",
    "    ax.get_xaxis().tick_bottom()  \n",
    "    ax.get_yaxis().tick_left()  \n",
    "\n",
    "    # Make sure your axis ticks are large enough to be easily read.  \n",
    "    # You don't want your viewers squinting to read your plot.  \n",
    "    plt.xticks(fontsize=14)  \n",
    "    plt.yticks(fontsize=14)  \n",
    "\n",
    "    plt.ylabel(\"Frequency of fault\", fontsize=14)  \n",
    "    plt.xlabel(\"Fault type\", fontsize=14)  \n",
    "    \n",
    "    \n",
    "    dataframe[column].value_counts().plot(ax=ax, kind='bar')\n",
    "    plt.figure(figsize=(20, 16))\n",
    "\n",
    "    #Save file\n",
    "    plt.savefig('../Data_Plots/data_balance')\n",
    "    "
   ]
  },
  {
   "cell_type": "markdown",
   "metadata": {},
   "source": [
    "### Loading dataset without missing values"
   ]
  },
  {
   "cell_type": "code",
   "execution_count": 6,
   "metadata": {},
   "outputs": [],
   "source": [
    "path = \"../../../../../../XAI_Datasets/Data/all_data_filled.csv\"\n",
    "#'/Users⁩/mortenolsenosvik⁩/⁨XAI_Datasets⁩/Data/'\n",
    "data = pd.read_csv(path) #, nrows=500000)"
   ]
  },
  {
   "cell_type": "markdown",
   "metadata": {},
   "source": [
    "### Undersampling the dataset "
   ]
  },
  {
   "cell_type": "code",
   "execution_count": 7,
   "metadata": {
    "scrolled": true
   },
   "outputs": [],
   "source": [
    "def undersample_dataset(dataset, sample_amount):\n",
    "    # Extract each status\n",
    "    others = dataset.loc[dataset['Status'] == 'Other']\n",
    "    status_9_Substatus_8   = dataset.loc[dataset['Status'] == 'Status_9_Substatus_8']\n",
    "    status_62_Substatus_7  = dataset.loc[dataset['Status'] == 'Status_62_Substatus_7']\n",
    "    status_62_Substatus_30 = dataset.loc[dataset['Status'] == 'Status_62_Substatus_30']\n",
    "\n",
    "    # undersampe the majority class ('Other')\n",
    "    sampled_others = others.sample(sample_amount, random_state = 12)\n",
    "    undersampled_data = pd.concat([sampled_others, status_9_Substatus_8, \n",
    "                                   status_62_Substatus_7, status_62_Substatus_30], ignore_index=True)\n",
    "    undersampled_data = shuffle(undersampled_data)\n",
    "    undersampled_data.reset_index(inplace=True, drop=True)\n",
    "\n",
    "    # Save dataframe to csv\n",
    "    undersampled_data.to_csv('../../../../../../XAI_Datasets/Data/undersampled_data.csv', \n",
    "                             encoding='utf-8', index=False)\n",
    "    \n",
    "    return(undersampled_data)\n"
   ]
  },
  {
   "cell_type": "code",
   "execution_count": 8,
   "metadata": {},
   "outputs": [
    {
     "name": "stdout",
     "output_type": "stream",
     "text": [
      "Proportion of failures in the unprocessed dataset\n",
      "Status\t\t\t Percentage\t Amount\n",
      "Other:\t\t\t 99.553%\t 51966851\n",
      "Status_9_Substatus_8: \t 0.438 %\t 228668\n",
      "Status_62_Substatus_7:\t 0.008%\t\t 4098\n",
      "Status_62_Substatus_30:\t 0.001%\t\t 383\n",
      "\n",
      "Proportion of failures in the undersampled dataset\n",
      "Status\t\t\t Percentage\t Amount\n",
      "Other:\t\t\t 56.269%\t 300000\n",
      "Status_9_Substatus_8: \t 42.890 %\t 228668\n",
      "Status_62_Substatus_7:\t 0.769%\t\t 4098\n",
      "Status_62_Substatus_30:\t 0.072%\t\t 383\n",
      "\n"
     ]
    }
   ],
   "source": [
    "undersampled_data = undersample_dataset(data, 300000)\n",
    "get_statues_percentage(data, 'the unprocessed dataset')\n",
    "get_statues_percentage(undersampled_data, 'the undersampled dataset')\n"
   ]
  },
  {
   "cell_type": "code",
   "execution_count": 9,
   "metadata": {},
   "outputs": [
    {
     "data": {
      "image/png": "[encoded data removed]",
      "text/plain": [
       "<Figure size 432x288 with 1 Axes>"
      ]
     },
     "metadata": {
      "needs_background": "light"
     },
     "output_type": "display_data"
    },
    {
     "data": {
      "text/plain": [
       "<Figure size 1440x1152 with 0 Axes>"
      ]
     },
     "metadata": {},
     "output_type": "display_data"
    }
   ],
   "source": [
    "plot_balance(undersampled_data, 'Status')"
   ]
  },
  {
   "cell_type": "markdown",
   "metadata": {},
   "source": [
    "### SMOTE (Synthetic Minority Oversampling Technique):"
   ]
  },
  {
   "cell_type": "code",
   "execution_count": null,
   "metadata": {},
   "outputs": [],
   "source": [
    "sm = SMOTE(random_state=12)\n",
    "X_"
   ]
  }
 ],
 "metadata": {
  "kernelspec": {
   "display_name": "Python 3",
   "language": "python",
   "name": "python3"
  },
  "language_info": {
   "codemirror_mode": {
    "name": "ipython",
    "version": 3
   },
   "file_extension": ".py",
   "mimetype": "text/x-python",
   "name": "python",
   "nbconvert_exporter": "python",
   "pygments_lexer": "ipython3",
   "version": "3.7.1"
  }
 },
 "nbformat": 4,
 "nbformat_minor": 2
}
