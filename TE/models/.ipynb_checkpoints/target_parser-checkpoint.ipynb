{
 "cells": [
  {
   "cell_type": "code",
   "execution_count": 2,
   "metadata": {},
   "outputs": [],
   "source": [
    "import numpy as np\n",
    "import pandas as pd"
   ]
  },
  {
   "cell_type": "markdown",
   "metadata": {},
   "source": [
    "### Parsing status codes to numbers"
   ]
  },
  {
   "cell_type": "code",
   "execution_count": 3,
   "metadata": {},
   "outputs": [],
   "source": [
    "status_to_numb = {\n",
    "    'Other': 0,\n",
    "    'Status_9_Substatus_8': 1,\n",
    "    'Status_62_Substatus_7': 2,\n",
    "    'Status_62_Substatus_30': 3\n",
    "}\n",
    "\n",
    "numb_to_status ={\n",
    "    0: 'Other',\n",
    "    1: 'Status_9_Substatus_8',\n",
    "    2: 'Status_62_Substatus_7',\n",
    "    3: 'Status_62_Substatus_30'\n",
    "}\n",
    "\n"
   ]
  },
  {
   "cell_type": "markdown",
   "metadata": {},
   "source": [
    "### Code"
   ]
  },
  {
   "cell_type": "code",
   "execution_count": 4,
   "metadata": {},
   "outputs": [],
   "source": [
    "def status_to_code(y):\n",
    "    y['Status'] = y['Status'].map(status_to_numb)\n",
    "    return y\n",
    "\n",
    "def code_to_status(y):\n",
    "    y['Status'] = y['Status'].map(numb_to_status)\n",
    "    return y"
   ]
  },
  {
   "cell_type": "code",
   "execution_count": 5,
   "metadata": {},
   "outputs": [
    {
     "name": "stdout",
     "output_type": "stream",
     "text": [
      "    Status\n",
      "0        0\n",
      "1        0\n",
      "2        0\n",
      "3        0\n",
      "4        1\n",
      "5        1\n",
      "6        2\n",
      "7        3\n",
      "8        2\n",
      "9        3\n",
      "10       0\n",
      "11       0\n",
      "12       2\n",
      "                    Status\n",
      "0                    Other\n",
      "1                    Other\n",
      "2                    Other\n",
      "3                    Other\n",
      "4     Status_9_Substatus_8\n",
      "5     Status_9_Substatus_8\n",
      "6    Status_62_Substatus_7\n",
      "7   Status_62_Substatus_30\n",
      "8    Status_62_Substatus_7\n",
      "9   Status_62_Substatus_30\n",
      "10                   Other\n",
      "11                   Other\n",
      "12   Status_62_Substatus_7\n",
      "    Status\n",
      "0        0\n",
      "1        0\n",
      "2        0\n",
      "3        0\n",
      "4        1\n",
      "5        1\n",
      "6        2\n",
      "7        3\n",
      "8        2\n",
      "9        3\n",
      "10       0\n",
      "11       0\n",
      "12       2\n"
     ]
    }
   ],
   "source": [
    "y = pd.DataFrame([0,0,0,0,1,1,2,3,2,3,0,0,2], columns=['Status'])\n",
    "\n",
    "print(y)\n",
    "y = code_to_status(y)\n",
    "print(y)\n",
    "y = status_to_code(y)\n",
    "print(y)"
   ]
  }
 ],
 "metadata": {
  "kernelspec": {
   "display_name": "Python 3",
   "language": "python",
   "name": "python3"
  },
  "language_info": {
   "codemirror_mode": {
    "name": "ipython",
    "version": 3
   },
   "file_extension": ".py",
   "mimetype": "text/x-python",
   "name": "python",
   "nbconvert_exporter": "python",
   "pygments_lexer": "ipython3",
   "version": "3.7.1"
  }
 },
 "nbformat": 4,
 "nbformat_minor": 2
}
