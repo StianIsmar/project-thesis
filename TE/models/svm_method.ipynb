{
 "cells": [
  {
   "cell_type": "code",
   "execution_count": 6,
   "metadata": {},
   "outputs": [],
   "source": [
    "import numpy as np\n",
    "import pandas as pd\n",
    "from sklearn.svm import SVC\n",
    "from sklearn.model_selection import train_test_split\n",
    "\n",
    "import nbimporter\n",
    "import performance_measure"
   ]
  },
  {
   "cell_type": "markdown",
   "metadata": {},
   "source": [
    "### Building the model (multikernal SVM)"
   ]
  },
  {
   "cell_type": "code",
   "execution_count": 7,
   "metadata": {},
   "outputs": [],
   "source": [
    "def train_svm_model(X_train,y_train, X_test):\n",
    "    # \n",
    "    svm = SVC(kernel='poly', gamma='auto', random_state=12)\n",
    "\n",
    "    # Fitting the model\n",
    "    svm.fit(X_train, y_train)\n",
    "\n",
    "    # Predicting values\n",
    "    y_train_pred = svm.predict(X_train)\n",
    "    y_test_pred = svm.predict(X_test)\n",
    "\n",
    "    return svm, y_train_pred, y_test_pred"
   ]
  },
  {
   "cell_type": "markdown",
   "metadata": {},
   "source": [
    "### Testing with toy dataset from sklearn"
   ]
  },
  {
   "cell_type": "code",
   "execution_count": 8,
   "metadata": {},
   "outputs": [],
   "source": [
    "def get_svm_model(X_train, X_test, y_train, y_test):\n",
    "    print('Loading...')\n",
    "    print('Training...')\n",
    "    svm, y_train_pred, y_test_pred = train_svm_model(X_train,y_train, X_test)\n",
    "    print('Training Complete')\n",
    "    print('Plotting Confusion Matrix...')\n",
    "    performance_measure.plot_confusion_matrix(y_test,y_test_pred, normalize=True)\n",
    "    print('Plotting Performance Measure...')\n",
    "    performance_measure.get_performance_measures(y_test, y_test_pred)\n",
    "    return svm\n",
    "    "
   ]
  },
  {
   "cell_type": "code",
   "execution_count": 9,
   "metadata": {},
   "outputs": [
    {
     "name": "stdout",
     "output_type": "stream",
     "text": [
      "Loading...\n",
      "Training...\n",
      "Training Complete\n",
      "Plotting Confusion Matrix...\n",
      "Normalized confusion matrix\n",
      "[[1.         0.         0.        ]\n",
      " [0.         1.         0.        ]\n",
      " [0.         0.05263158 0.94736842]]\n"
     ]
    },
    {
     "data": {
      "image/png": "[encoded data removed]",
      "text/plain": [
       "<Figure size 432x288 with 2 Axes>"
      ]
     },
     "metadata": {
      "needs_background": "light"
     },
     "output_type": "display_data"
    },
    {
     "name": "stdout",
     "output_type": "stream",
     "text": [
      "Plotting Performance Measure...\n",
      "Total Accuracy \t\t0.983\n",
      "\n",
      "Status \t\t\t\t Precision \t Recall \t F1\n",
      "----------------------------------------------------------------------\n",
      "0                         \t 1.000 \t\t 1.000 \t\t 1.000\n",
      "1                         \t 0.962 \t\t 1.000 \t\t 0.980\n",
      "2                         \t 1.000 \t\t 0.947 \t\t 0.973\n"
     ]
    },
    {
     "data": {
      "text/plain": [
       "SVC(C=1.0, cache_size=200, class_weight=None, coef0=0.0,\n",
       "  decision_function_shape='ovr', degree=3, gamma='auto', kernel='poly',\n",
       "  max_iter=-1, probability=False, random_state=12, shrinking=True,\n",
       "  tol=0.001, verbose=False)"
      ]
     },
     "execution_count": 9,
     "metadata": {},
     "output_type": "execute_result"
    }
   ],
   "source": [
    "from sklearn.datasets import load_wine\n",
    "data = load_wine()\n",
    "\n",
    "\n",
    "X = pd.DataFrame(data.data, columns = data.feature_names)\n",
    "y = pd.DataFrame(data.target)\n",
    "y = np.array(y)\n",
    "y = np.ravel(y)\n",
    "\n",
    "X_train, X_test, y_train, y_test = train_test_split(X, y, test_size=0.33)\n",
    "\n",
    "svm, y_train_pred, y_test_pred = train_svm_model(X_train, y_train, X_test)\n",
    "get_svm_model(X_train, X_test, y_train, y_test)"
   ]
  },
  {
   "cell_type": "code",
   "execution_count": null,
   "metadata": {},
   "outputs": [],
   "source": []
  },
  {
   "cell_type": "code",
   "execution_count": null,
   "metadata": {},
   "outputs": [],
   "source": []
  }
 ],
 "metadata": {
  "kernelspec": {
   "display_name": "Python 3",
   "language": "python",
   "name": "python3"
  },
  "language_info": {
   "codemirror_mode": {
    "name": "ipython",
    "version": 3
   },
   "file_extension": ".py",
   "mimetype": "text/x-python",
   "name": "python",
   "nbconvert_exporter": "python",
   "pygments_lexer": "ipython3",
   "version": "3.7.1"
  }
 },
 "nbformat": 4,
 "nbformat_minor": 2
}
