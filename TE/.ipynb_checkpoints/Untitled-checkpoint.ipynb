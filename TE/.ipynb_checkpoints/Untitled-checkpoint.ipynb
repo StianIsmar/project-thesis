{
 "cells": [
  {
   "cell_type": "code",
   "execution_count": 4,
   "metadata": {},
   "outputs": [
    {
     "ename": "SyntaxError",
     "evalue": "invalid syntax (<ipython-input-4-b052df768d3f>, line 41)",
     "output_type": "error",
     "traceback": [
      "\u001b[0;36m  File \u001b[0;32m\"<ipython-input-4-b052df768d3f>\"\u001b[0;36m, line \u001b[0;32m41\u001b[0m\n\u001b[0;31m    print(length_list[i] + \" & \" length_list[i+1])\u001b[0m\n\u001b[0m                                           ^\u001b[0m\n\u001b[0;31mSyntaxError\u001b[0m\u001b[0;31m:\u001b[0m invalid syntax\n"
     ]
    }
   ],
   "source": [
    "labels = [\"WindVane\",\n",
    "\"WindSpeed\",\n",
    "\"RotorSpeed\", \n",
    "\"NacelleDirection\",\n",
    "\"ActivePower\",\n",
    "\"Spinner-Temperature\",\n",
    "\"Log-T-Raw-FrontBearingTemperature\",\n",
    "\"Log-T-Raw-RearBearingTemperature\", \n",
    "\"Log-T-Raw-BladeAPitchHeatSink\",\n",
    "\"Log-T-Raw-BladeBPitchHeatSink\",\n",
    "\"Log-T-Raw-BladeCPitchHeatSink\",\n",
    "\"Log-T-Raw-BladeAPitchControlBox\", \n",
    "\"Log-T-Raw-BladeBPitchControlBox\",\n",
    "\"Log-T-Raw-BladeCPitchControlBox\",\n",
    "\"Log-T-Raw-BladeATemperature\",\n",
    "\"Log-T-Raw-BladeBTemperature\",\n",
    "\"Log-T-Raw-BladeCTemperature\",\n",
    "\"Log-T-Raw-Rotor1Temperature\",\n",
    "\"Log-T-Raw-Rotor2Temperature\",\n",
    "\"Log-T-Raw-Stator2Temperature\", \n",
    "\"Log-T-Raw-Stator1Temperature\",\n",
    "\"Log-T-Raw-NacelleAmbientTemperature\",\n",
    "\"Nacelle-Temperature\",\n",
    "\"Log-T-Raw-NacelleControlCabinetTemperature\",\n",
    "\"Log-T-Raw-Rectifier1HeatSink\",\n",
    "\"Log-T-Raw-Rectifier2HeatSink\",\n",
    "\"Log-T-Raw-RectifierCabinetTemperature\",\n",
    "\"Log-T-Raw-ExcitationHeatSink\",\n",
    "\"Ambient-Temperature\",\n",
    "\"Log-T-Raw-TowerTemperature\",\n",
    "\"Log-T-Raw-ControlCabinetTemperature\",\n",
    "\"Log-T-Raw-TransformerTemperature\",\n",
    "\"Average blade angle across A B C\",\n",
    "\"WindDirection\", ]\n",
    "\n",
    "def print_tabular(list_):\n",
    "    print(\"\\begin{tabular}{lll}\")\n",
    "    length_list = len(list_)\n",
    "    \n",
    "    for i in range(length_list - 1):\n",
    "        print(length_list[i] + \" & \" + length_list[i+1])\n",
    "        \n",
    "\n",
    "    print(\"\\end{tabular}\")\n",
    "\n"
   ]
  },
  {
   "cell_type": "code",
   "execution_count": null,
   "metadata": {},
   "outputs": [],
   "source": []
  }
 ],
 "metadata": {
  "kernelspec": {
   "display_name": "Python 3",
   "language": "python",
   "name": "python3"
  },
  "language_info": {
   "codemirror_mode": {
    "name": "ipython",
    "version": 3
   },
   "file_extension": ".py",
   "mimetype": "text/x-python",
   "name": "python",
   "nbconvert_exporter": "python",
   "pygments_lexer": "ipython3",
   "version": "3.7.2"
  }
 },
 "nbformat": 4,
 "nbformat_minor": 2
}
